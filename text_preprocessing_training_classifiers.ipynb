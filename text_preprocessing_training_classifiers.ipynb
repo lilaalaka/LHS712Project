{
 "cells": [
  {
   "cell_type": "markdown",
   "id": "9b6bcef5-9df3-4525-9075-f8d724d5828e",
   "metadata": {
    "tags": []
   },
   "source": [
    "https://www.kaggle.com/code/danielcwq/predict-medical-specialty-fastai"
   ]
  },
  {
   "cell_type": "markdown",
   "id": "a6535fd0-ea06-4c89-b8dc-15dc60166f26",
   "metadata": {},
   "source": [
    "## Data Preprocessing and Cleaning"
   ]
  },
  {
   "cell_type": "code",
   "execution_count": 63,
   "id": "920b9d5b-319c-4505-9e76-98d22e3f059a",
   "metadata": {},
   "outputs": [],
   "source": [
    "import pandas as pd\n",
    "\n",
    "# Load data and remove null rows\n",
    "mtsamples = pd.read_csv('mtsamples.csv',index_col=0)\n",
    "mtsamples = mtsamples[mtsamples['transcription'].notnull()]\n",
    "mtsamples = mtsamples[mtsamples['medical_specialty'].notnull()]\n",
    "\n",
    "mtsamples = mtsamples.drop(mtsamples[mtsamples['medical_specialty']==' SOAP / Chart / Progress Notes'].index)\n",
    "mtsamples = mtsamples.drop(mtsamples[mtsamples['medical_specialty']==' Office Notes'].index)\n",
    "mtsamples = mtsamples.drop(mtsamples[mtsamples['medical_specialty']==' IME-QME-Work Comp etc.'].index)\n",
    "mtsamples = mtsamples.drop(mtsamples[mtsamples['medical_specialty']==' Discharge Summary'].index)\n",
    "mtsamples = mtsamples.drop(mtsamples[mtsamples['medical_specialty']==' Emergency Room Reports'].index)\n",
    "mtsamples = mtsamples.drop(mtsamples[mtsamples['medical_specialty']==' Letters'].index)\n",
    "\n",
    "mtsamples = mtsamples.drop(mtsamples[mtsamples['medical_specialty']==' Autopsy'].index)\n",
    "mtsamples = mtsamples.drop(mtsamples[mtsamples['medical_specialty']==' Consult - History and Phy.'].index)\n",
    "mtsamples = mtsamples.drop(mtsamples[mtsamples['medical_specialty']==' General Medicine'].index)\n",
    "mtsamples = mtsamples.drop(mtsamples[mtsamples['medical_specialty']==' Lab Medicine - Pathology'].index)\n",
    "mtsamples = mtsamples.drop(mtsamples[mtsamples['medical_specialty']==' Pain Management'].index)\n",
    "mtsamples = mtsamples.drop(mtsamples[mtsamples['medical_specialty']==' Physical Medicine - Rehab'].index)\n",
    "mtsamples = mtsamples.drop(mtsamples[mtsamples['medical_specialty']==' Hospice - Palliative Care'].index)\n",
    "\n",
    "# Creating lists of labels and transcriptions\n",
    "speciality = list(mtsamples['medical_specialty'])\n",
    "transcriptions = list(mtsamples['transcription'])"
   ]
  },
  {
   "cell_type": "code",
   "execution_count": 64,
   "id": "62486e6b-966a-4440-b20d-d8e990ce97dd",
   "metadata": {},
   "outputs": [],
   "source": [
    "# pre process transcriptions\n",
    "import nltk\n",
    "import re\n",
    "from nltk.tokenize import word_tokenize\n",
    "from nltk.corpus import stopwords\n",
    "from nltk.stem.snowball import SnowballStemmer\n",
    "from gensim.parsing.preprocessing import remove_stopwords\n",
    "\n",
    "snow_stemmer = SnowballStemmer(language='english')\n",
    "def snow_stem(trx):\n",
    "    stem = [snow_stemmer.stem(word) for word in trx]\n",
    "    return stem\n",
    "\n",
    "# Text preprocessing and cleaning\n",
    "trx_cleaned = []\n",
    "for i in range(len(transcriptions)):\n",
    "    trx = transcriptions[i]\n",
    "    trx = trx.lower()\n",
    "    trx = trx.replace(\".\",\" \")\n",
    "    trx = trx.replace(\",\",\" \")\n",
    "    trx = trx.replace(\":\",\"\")\n",
    "    trx = trx.replace(\"-\",\" \")\n",
    "    trx = re.sub(r'[0-9]+','',trx)\n",
    "    trx = trx.replace(\"  \",\" \")\n",
    "    trx = trx.replace(\"  \",\" \")\n",
    "    \n",
    "    trx = word_tokenize(trx)\n",
    "    trx = snow_stem(trx)\n",
    "    trx = ' '.join([t for t in trx])\n",
    "    trx = remove_stopwords(trx)\n",
    "    \n",
    "    trx_cleaned.append(trx)"
   ]
  },
  {
   "cell_type": "markdown",
   "id": "f3eeb86b-4595-4ae9-9327-f9f985f3fa69",
   "metadata": {},
   "source": [
    "## Featurization and Train-Test Split"
   ]
  },
  {
   "cell_type": "code",
   "execution_count": 65,
   "id": "f51e3b6f-67ad-4f75-9d6a-3146ad9d945e",
   "metadata": {},
   "outputs": [],
   "source": [
    "from sklearn.feature_extraction.text import TfidfVectorizer\n",
    "from sklearn.model_selection import train_test_split\n",
    "\n",
    "# Generating features using TF-IDF \n",
    "X = trx_cleaned\n",
    "Y = speciality\n",
    "tfidf_vec = TfidfVectorizer(stop_words='english')\n",
    "X = tfidf_vec.fit_transform(X)\n",
    "\n",
    "# Splitting data into train and test sets\n",
    "X_train, X_validation, Y_train, Y_validation = train_test_split(X,Y,train_size=0.666,random_state=500)"
   ]
  },
  {
   "cell_type": "markdown",
   "id": "a45c03b2-2a92-4c42-9492-84c0d874c288",
   "metadata": {},
   "source": [
    "## Random Forest"
   ]
  },
  {
   "cell_type": "code",
   "execution_count": 48,
   "id": "fa7f92cf-5d59-4a15-8605-0cdab2527ea8",
   "metadata": {},
   "outputs": [
    {
     "name": "stdout",
     "output_type": "stream",
     "text": [
      "                             precision    recall  f1-score   support\n",
      "\n",
      "       Allergy / Immunology       0.00      0.00      0.00         0\n",
      "                    Autopsy       1.00      0.25      0.40         4\n",
      "                 Bariatrics       0.00      0.00      0.00        10\n",
      " Cardiovascular / Pulmonary       0.13      0.11      0.12       119\n",
      "               Chiropractic       0.00      0.00      0.00         7\n",
      " Consult - History and Phy.       0.18      0.32      0.23       176\n",
      " Cosmetic / Plastic Surgery       0.00      0.00      0.00         7\n",
      "                  Dentistry       0.00      0.00      0.00        10\n",
      "                Dermatology       0.00      0.00      0.00        11\n",
      "       Diets and Nutritions       0.00      0.00      0.00         5\n",
      "       ENT - Otolaryngology       0.00      0.00      0.00        25\n",
      "              Endocrinology       0.00      0.00      0.00         7\n",
      "           Gastroenterology       0.07      0.06      0.06        67\n",
      "           General Medicine       0.08      0.06      0.07        84\n",
      "      Hematology - Oncology       0.05      0.03      0.03        38\n",
      "  Hospice - Palliative Care       0.00      0.00      0.00         1\n",
      "   Lab Medicine - Pathology       0.00      0.00      0.00         2\n",
      "                 Nephrology       0.00      0.00      0.00        27\n",
      "                  Neurology       0.09      0.08      0.08        66\n",
      "               Neurosurgery       0.00      0.00      0.00        36\n",
      "    Obstetrics / Gynecology       0.02      0.02      0.02        52\n",
      "              Ophthalmology       0.27      0.09      0.13        34\n",
      "                 Orthopedic       0.00      0.00      0.00       124\n",
      "            Pain Management       0.41      0.37      0.39        19\n",
      "      Pediatrics - Neonatal       0.00      0.00      0.00        28\n",
      "  Physical Medicine - Rehab       0.00      0.00      0.00         7\n",
      "                   Podiatry       0.00      0.00      0.00        13\n",
      "    Psychiatry / Psychology       0.00      0.00      0.00        15\n",
      "                  Radiology       0.14      0.14      0.14        92\n",
      "               Rheumatology       0.00      0.00      0.00         5\n",
      "             Sleep Medicine       0.00      0.00      0.00         7\n",
      "          Speech - Language       0.50      0.50      0.50         2\n",
      "                    Surgery       0.24      0.34      0.28       365\n",
      "                    Urology       0.00      0.00      0.00        48\n",
      "\n",
      "                   accuracy                           0.15      1513\n",
      "                  macro avg       0.09      0.07      0.07      1513\n",
      "               weighted avg       0.13      0.15      0.13      1513\n",
      "\n"
     ]
    },
    {
     "name": "stderr",
     "output_type": "stream",
     "text": [
      "/Users/lilaalaka/opt/anaconda3/lib/python3.9/site-packages/sklearn/metrics/_classification.py:1318: UndefinedMetricWarning: Precision and F-score are ill-defined and being set to 0.0 in labels with no predicted samples. Use `zero_division` parameter to control this behavior.\n",
      "  _warn_prf(average, modifier, msg_start, len(result))\n",
      "/Users/lilaalaka/opt/anaconda3/lib/python3.9/site-packages/sklearn/metrics/_classification.py:1318: UndefinedMetricWarning: Recall and F-score are ill-defined and being set to 0.0 in labels with no true samples. Use `zero_division` parameter to control this behavior.\n",
      "  _warn_prf(average, modifier, msg_start, len(result))\n",
      "/Users/lilaalaka/opt/anaconda3/lib/python3.9/site-packages/sklearn/metrics/_classification.py:1318: UndefinedMetricWarning: Precision and F-score are ill-defined and being set to 0.0 in labels with no predicted samples. Use `zero_division` parameter to control this behavior.\n",
      "  _warn_prf(average, modifier, msg_start, len(result))\n",
      "/Users/lilaalaka/opt/anaconda3/lib/python3.9/site-packages/sklearn/metrics/_classification.py:1318: UndefinedMetricWarning: Recall and F-score are ill-defined and being set to 0.0 in labels with no true samples. Use `zero_division` parameter to control this behavior.\n",
      "  _warn_prf(average, modifier, msg_start, len(result))\n",
      "/Users/lilaalaka/opt/anaconda3/lib/python3.9/site-packages/sklearn/metrics/_classification.py:1318: UndefinedMetricWarning: Precision and F-score are ill-defined and being set to 0.0 in labels with no predicted samples. Use `zero_division` parameter to control this behavior.\n",
      "  _warn_prf(average, modifier, msg_start, len(result))\n",
      "/Users/lilaalaka/opt/anaconda3/lib/python3.9/site-packages/sklearn/metrics/_classification.py:1318: UndefinedMetricWarning: Recall and F-score are ill-defined and being set to 0.0 in labels with no true samples. Use `zero_division` parameter to control this behavior.\n",
      "  _warn_prf(average, modifier, msg_start, len(result))\n"
     ]
    }
   ],
   "source": [
    "#### Random Forest Classifier\n",
    "from sklearn.ensemble import RandomForestClassifier\n",
    "from sklearn.metrics import classification_report\n",
    "import numpy as np\n",
    "\n",
    "# Initializing and fitting classifier with train data\n",
    "classifier = RandomForestClassifier(n_estimators=100,criterion='entropy',random_state=42)\n",
    "classifier.fit(X_train,Y_train)\n",
    "\n",
    "# Predicting the test set results\n",
    "y_pred = classifier.predict(X_validation)\n",
    "\n",
    "# Performance Evaluation\n",
    "y_val = np.array(Y_validation)\n",
    "print(classification_report(y_val,y_pred))"
   ]
  },
  {
   "cell_type": "markdown",
   "id": "1eb7a9fc-a6e7-4bc9-b525-50a2aa817825",
   "metadata": {},
   "source": [
    "## Logistic Regression"
   ]
  },
  {
   "cell_type": "code",
   "execution_count": 71,
   "id": "4ca891aa-573e-4dbd-b877-4daf6010dc5f",
   "metadata": {},
   "outputs": [
    {
     "name": "stdout",
     "output_type": "stream",
     "text": [
      "                             precision    recall  f1-score   support\n",
      "\n",
      "       Allergy / Immunology       0.00      0.00      0.00         4\n",
      "                 Bariatrics       0.56      0.62      0.59         8\n",
      " Cardiovascular / Pulmonary       0.53      0.66      0.59       148\n",
      "               Chiropractic       0.27      0.57      0.36         7\n",
      " Cosmetic / Plastic Surgery       0.22      0.50      0.31         8\n",
      "                  Dentistry       0.57      0.89      0.70         9\n",
      "                Dermatology       0.40      0.75      0.52         8\n",
      "       Diets and Nutritions       1.00      1.00      1.00         5\n",
      "       ENT - Otolaryngology       0.51      0.80      0.62        41\n",
      "              Endocrinology       0.36      0.71      0.48         7\n",
      "           Gastroenterology       0.47      0.65      0.54        99\n",
      "      Hematology - Oncology       0.26      0.37      0.30        38\n",
      "                 Nephrology       0.43      0.74      0.55        39\n",
      "                  Neurology       0.49      0.61      0.54        96\n",
      "               Neurosurgery       0.35      0.74      0.47        43\n",
      "    Obstetrics / Gynecology       0.52      0.85      0.64        68\n",
      "              Ophthalmology       0.48      0.91      0.63        32\n",
      "                 Orthopedic       0.47      0.41      0.44       133\n",
      "      Pediatrics - Neonatal       0.44      0.58      0.50        31\n",
      "                   Podiatry       0.23      0.83      0.36        12\n",
      "    Psychiatry / Psychology       0.74      0.95      0.83        21\n",
      "                  Radiology       0.33      0.28      0.30       109\n",
      "               Rheumatology       0.40      0.67      0.50         3\n",
      "             Sleep Medicine       0.62      0.45      0.53        11\n",
      "          Speech - Language       0.50      0.50      0.50         2\n",
      "                    Surgery       0.42      0.05      0.10       426\n",
      "                    Urology       0.44      0.69      0.54        52\n",
      "\n",
      "                   accuracy                           0.45      1460\n",
      "                  macro avg       0.44      0.62      0.50      1460\n",
      "               weighted avg       0.44      0.45      0.39      1460\n",
      "\n"
     ]
    }
   ],
   "source": [
    "### Logistic Regression\n",
    "from sklearn.metrics import classification_report\n",
    "from sklearn.linear_model import LogisticRegression\n",
    "\n",
    "X_train,X_validation,Y_train,Y_validation = train_test_split(X,Y,test_size=0.4,random_state=500,shuffle=True)\n",
    "\n",
    "model = LogisticRegression(multi_class='multinomial',solver='lbfgs',class_weight='balanced',random_state=500)\n",
    "model.fit(X_train,Y_train)\n",
    "ypred = model.predict(X_validation)\n",
    "\n",
    "y = np.array(Y_validation)\n",
    "print(classification_report(y,ypred))"
   ]
  },
  {
   "cell_type": "markdown",
   "id": "7323eb93-45e5-45f2-b3ac-bb8fed12a42b",
   "metadata": {},
   "source": [
    "## SVM"
   ]
  },
  {
   "cell_type": "code",
   "execution_count": 72,
   "id": "f62cd508-4598-4422-a393-9d339036ea00",
   "metadata": {},
   "outputs": [
    {
     "name": "stdout",
     "output_type": "stream",
     "text": [
      "                             precision    recall  f1-score   support\n",
      "\n",
      "       Allergy / Immunology       0.00      0.00      0.00         1\n",
      "                 Bariatrics       0.00      0.00      0.00         5\n",
      " Cardiovascular / Pulmonary       0.27      0.38      0.31        66\n",
      "               Chiropractic       0.00      0.00      0.00         2\n",
      " Cosmetic / Plastic Surgery       0.00      0.00      0.00         4\n",
      "                  Dentistry       1.00      0.17      0.29         6\n",
      "                Dermatology       0.00      0.00      0.00         6\n",
      "       ENT - Otolaryngology       0.25      0.21      0.23        19\n",
      "              Endocrinology       0.00      0.00      0.00         4\n",
      "           Gastroenterology       0.20      0.17      0.18        47\n",
      "      Hematology - Oncology       0.33      0.08      0.13        25\n",
      "                 Nephrology       0.50      0.09      0.15        23\n",
      "                  Neurology       0.40      0.39      0.40        46\n",
      "               Neurosurgery       0.00      0.00      0.00        17\n",
      "    Obstetrics / Gynecology       0.14      0.09      0.11        35\n",
      "              Ophthalmology       0.08      0.07      0.07        15\n",
      "                 Orthopedic       0.21      0.20      0.21        69\n",
      "      Pediatrics - Neonatal       0.67      0.44      0.53        18\n",
      "                   Podiatry       0.20      0.12      0.15         8\n",
      "    Psychiatry / Psychology       0.78      0.78      0.78         9\n",
      "                  Radiology       0.08      0.07      0.07        54\n",
      "               Rheumatology       0.00      0.00      0.00         2\n",
      "             Sleep Medicine       0.50      0.33      0.40         3\n",
      "          Speech - Language       0.00      0.00      0.00         1\n",
      "                    Surgery       0.24      0.34      0.28       217\n",
      "                    Urology       0.29      0.21      0.24        28\n",
      "\n",
      "                   accuracy                           0.25       730\n",
      "                  macro avg       0.24      0.16      0.17       730\n",
      "               weighted avg       0.25      0.25      0.23       730\n",
      "\n"
     ]
    },
    {
     "name": "stderr",
     "output_type": "stream",
     "text": [
      "/Users/lilaalaka/opt/anaconda3/lib/python3.9/site-packages/sklearn/metrics/_classification.py:1318: UndefinedMetricWarning: Precision and F-score are ill-defined and being set to 0.0 in labels with no predicted samples. Use `zero_division` parameter to control this behavior.\n",
      "  _warn_prf(average, modifier, msg_start, len(result))\n",
      "/Users/lilaalaka/opt/anaconda3/lib/python3.9/site-packages/sklearn/metrics/_classification.py:1318: UndefinedMetricWarning: Precision and F-score are ill-defined and being set to 0.0 in labels with no predicted samples. Use `zero_division` parameter to control this behavior.\n",
      "  _warn_prf(average, modifier, msg_start, len(result))\n",
      "/Users/lilaalaka/opt/anaconda3/lib/python3.9/site-packages/sklearn/metrics/_classification.py:1318: UndefinedMetricWarning: Precision and F-score are ill-defined and being set to 0.0 in labels with no predicted samples. Use `zero_division` parameter to control this behavior.\n",
      "  _warn_prf(average, modifier, msg_start, len(result))\n"
     ]
    }
   ],
   "source": [
    "### SVM\n",
    "X = trx_cleaned\n",
    "Y = speciality\n",
    "tfidf_vec = TfidfVectorizer(stop_words='english')\n",
    "X = tfidf_vec.fit_transform(X)\n",
    "X_train, X_validation, Y_train, Y_validation = train_test_split(X,Y,test_size=0.2,random_state=500)\n",
    "\n",
    "from sklearn.svm import SVC\n",
    "classifier = SVC(kernel='rbf',random_state=42)\n",
    "classifier.fit(X_train,Y_train)\n",
    "ypred = classifier.predict(X_validation)\n",
    "\n",
    "from sklearn.metrics import classification_report\n",
    "y = np.array(Y_validation)\n",
    "print(classification_report(y,ypred))"
   ]
  }
 ],
 "metadata": {
  "kernelspec": {
   "display_name": "Python 3 (ipykernel)",
   "language": "python",
   "name": "python3"
  },
  "language_info": {
   "codemirror_mode": {
    "name": "ipython",
    "version": 3
   },
   "file_extension": ".py",
   "mimetype": "text/x-python",
   "name": "python",
   "nbconvert_exporter": "python",
   "pygments_lexer": "ipython3",
   "version": "3.9.7"
  }
 },
 "nbformat": 4,
 "nbformat_minor": 5
}
