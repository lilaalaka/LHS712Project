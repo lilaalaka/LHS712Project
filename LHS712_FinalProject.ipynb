{
 "cells": [
  {
   "cell_type": "markdown",
   "id": "9b6bcef5-9df3-4525-9075-f8d724d5828e",
   "metadata": {
    "tags": []
   },
   "source": [
    "https://www.kaggle.com/code/danielcwq/predict-medical-specialty-fastai"
   ]
  },
  {
   "cell_type": "code",
   "execution_count": 103,
   "id": "a7f71b56-e8c1-4e69-a082-09768efdb775",
   "metadata": {},
   "outputs": [],
   "source": [
    "# We do not have a labeled BIO scheme so could not implement as in Assg 3"
   ]
  },
  {
   "cell_type": "code",
   "execution_count": 104,
   "id": "361fc2bf-b148-4199-bdd7-83cbf1dcb7b6",
   "metadata": {},
   "outputs": [],
   "source": [
    "import pandas as pd\n",
    "\n",
    "mtsamples = pd.read_csv('mtsamples.csv',index_col=0)"
   ]
  },
  {
   "cell_type": "code",
   "execution_count": 105,
   "id": "20f9305e-97ba-4272-bd2a-e2b5d77b896b",
   "metadata": {},
   "outputs": [],
   "source": [
    "mtsamples = mtsamples[mtsamples['transcription'].notnull()]\n",
    "mtsamples = mtsamples[mtsamples['medical_specialty'].notnull()]"
   ]
  },
  {
   "cell_type": "markdown",
   "id": "b26b6644-92b4-424d-a970-bdffa93821e0",
   "metadata": {
    "tags": []
   },
   "source": [
    "## CRF Model"
   ]
  },
  {
   "cell_type": "code",
   "execution_count": 53,
   "id": "acf4ef8a-226f-4fb3-a91d-c9555b6d1d70",
   "metadata": {},
   "outputs": [],
   "source": [
    "transcriptions = list(mtsamples['transcription'])"
   ]
  },
  {
   "cell_type": "code",
   "execution_count": 57,
   "id": "3f4f488e-62a5-4f3c-a97f-2e93cc5eedee",
   "metadata": {},
   "outputs": [
    {
     "data": {
      "text/plain": [
       "list"
      ]
     },
     "execution_count": 57,
     "metadata": {},
     "output_type": "execute_result"
    }
   ],
   "source": [
    "type(transcriptions[0].strip().split(' '))"
   ]
  },
  {
   "cell_type": "code",
   "execution_count": 62,
   "id": "75e1bebc-d881-4404-a422-bc820cdda465",
   "metadata": {},
   "outputs": [],
   "source": [
    "# Creating list of lists for vectorized words in each transcription\n",
    "\n",
    "trxs = []\n",
    "\n",
    "for i in range(len(transcriptions)):\n",
    "    trxs.append(transcriptions[i].strip().split(' '))"
   ]
  },
  {
   "cell_type": "code",
   "execution_count": 81,
   "id": "5a8d9da2-d523-4efc-9735-7c93a2f8025e",
   "metadata": {},
   "outputs": [],
   "source": [
    "medical_specialty = list(mtsamples['medical_specialty'])"
   ]
  },
  {
   "cell_type": "code",
   "execution_count": 82,
   "id": "d86d99bf-7f47-4dfe-a0d4-253505736add",
   "metadata": {},
   "outputs": [],
   "source": [
    "for i in range(len(medical_specialty)):\n",
    "    medical_specialty[i] = medical_specialty[i].strip()"
   ]
  },
  {
   "cell_type": "code",
   "execution_count": 84,
   "id": "0183b68c-40fd-435e-bba3-e6c591635c3b",
   "metadata": {},
   "outputs": [
    {
     "name": "stdout",
     "output_type": "stream",
     "text": [
      "4966 4966\n"
     ]
    }
   ],
   "source": [
    "print(len(medical_specialty), len(trxs))"
   ]
  },
  {
   "cell_type": "code",
   "execution_count": 85,
   "id": "d1904884-6fd6-40b7-9f09-1f1f4366cc30",
   "metadata": {},
   "outputs": [],
   "source": [
    "# medical_specialty = y\n",
    "# transcription = x\n",
    "\n",
    "# sequential models, deep learning, NN"
   ]
  },
  {
   "cell_type": "code",
   "execution_count": 87,
   "id": "b5a5ba28-2cce-4a56-9f63-51884da545a2",
   "metadata": {},
   "outputs": [],
   "source": [
    "import string\n",
    "\n",
    "def word2features(word):\n",
    "    features = {\n",
    "        'word': word,\n",
    "        'word.lower()': word.lower(),\n",
    "        'word.upper()': word.upper(),\n",
    "        'word[:1]': word[:1],\n",
    "        'word[:2]': word[:2],\n",
    "        'word[:3]': word[:3],\n",
    "        'word[:4]': word[:4],\n",
    "        'word[-1:]': word[-1:],\n",
    "        'word[-2:]': word[-2:],\n",
    "        'word[-3:]': word[-3:],\n",
    "        'word[-4:]': word[-4:],\n",
    "        'word.istitle()': word.istitle(),\n",
    "        'word.ispunctuation()': (word in string.punctuation),\n",
    "        'len(word)': len(word)\n",
    "    }\n",
    "    return features\n",
    "\n",
    "# run word2features on every word in text\n",
    "def text2features(text):\n",
    "    return [word2features(i) for i in text]"
   ]
  },
  {
   "cell_type": "code",
   "execution_count": 97,
   "id": "c75e8f71-82aa-41a6-9e5b-e7a1f8abde3d",
   "metadata": {},
   "outputs": [
    {
     "name": "stdout",
     "output_type": "stream",
     "text": [
      "4966 4966\n"
     ]
    }
   ],
   "source": [
    "x = [text2features(text) for text in trxs]\n",
    "y = medical_specialty\n",
    "\n",
    "print(len(x),len(y))"
   ]
  },
  {
   "cell_type": "code",
   "execution_count": null,
   "id": "e5be226c-a984-4d64-9334-5335fd09ed07",
   "metadata": {},
   "outputs": [],
   "source": []
  },
  {
   "cell_type": "code",
   "execution_count": 92,
   "id": "4b4c0179-95e5-4aff-9c81-3d6e5304ba7d",
   "metadata": {},
   "outputs": [],
   "source": [
    "# Splitting Train / Validation Sets\n",
    "\n",
    "from sklearn.model_selection import train_test_split\n",
    "\n",
    "x_train, x_validation, y_train, y_validation = train_test_split(x, y, test_size = 0.2)"
   ]
  },
  {
   "cell_type": "code",
   "execution_count": 94,
   "id": "8093ab34-b1e5-4fcf-bea8-21e403b25c0c",
   "metadata": {},
   "outputs": [
    {
     "name": "stdout",
     "output_type": "stream",
     "text": [
      "3972 994 3972 994\n"
     ]
    }
   ],
   "source": [
    "print(len(x_train),len(x_validation),len(y_train),len(y_validation))"
   ]
  },
  {
   "cell_type": "code",
   "execution_count": 95,
   "id": "58394e1f-b2ea-40d0-bd69-df4fc24fb1d5",
   "metadata": {},
   "outputs": [
    {
     "ename": "ValueError",
     "evalue": "The numbers of items and labels differ: |x| = 728, |y| = 7",
     "output_type": "error",
     "traceback": [
      "\u001b[0;31m---------------------------------------------------------------------------\u001b[0m",
      "\u001b[0;31mValueError\u001b[0m                                Traceback (most recent call last)",
      "\u001b[0;32m/var/folders/zs/vb0jk42159g_18xt9v8_mbqc0000gn/T/ipykernel_50748/22992337.py\u001b[0m in \u001b[0;36m<module>\u001b[0;34m\u001b[0m\n\u001b[1;32m      6\u001b[0m \u001b[0;31m# Training and Prediction\u001b[0m\u001b[0;34m\u001b[0m\u001b[0;34m\u001b[0m\u001b[0m\n\u001b[1;32m      7\u001b[0m \u001b[0;34m\u001b[0m\u001b[0m\n\u001b[0;32m----> 8\u001b[0;31m \u001b[0mcrf\u001b[0m\u001b[0;34m.\u001b[0m\u001b[0mfit\u001b[0m\u001b[0;34m(\u001b[0m\u001b[0mx_train\u001b[0m\u001b[0;34m,\u001b[0m \u001b[0my_train\u001b[0m\u001b[0;34m)\u001b[0m\u001b[0;34m\u001b[0m\u001b[0;34m\u001b[0m\u001b[0m\n\u001b[0m\u001b[1;32m      9\u001b[0m \u001b[0my_pred\u001b[0m \u001b[0;34m=\u001b[0m \u001b[0mcrf\u001b[0m\u001b[0;34m.\u001b[0m\u001b[0mpredict\u001b[0m\u001b[0;34m(\u001b[0m\u001b[0mx_validation\u001b[0m\u001b[0;34m)\u001b[0m\u001b[0;34m\u001b[0m\u001b[0;34m\u001b[0m\u001b[0m\n\u001b[1;32m     10\u001b[0m \u001b[0;34m\u001b[0m\u001b[0m\n",
      "\u001b[0;32m~/opt/anaconda3/lib/python3.9/site-packages/sklearn_crfsuite/estimator.py\u001b[0m in \u001b[0;36mfit\u001b[0;34m(self, X, y, X_dev, y_dev)\u001b[0m\n\u001b[1;32m    312\u001b[0m \u001b[0;34m\u001b[0m\u001b[0m\n\u001b[1;32m    313\u001b[0m         \u001b[0;32mfor\u001b[0m \u001b[0mxseq\u001b[0m\u001b[0;34m,\u001b[0m \u001b[0myseq\u001b[0m \u001b[0;32min\u001b[0m \u001b[0mtrain_data\u001b[0m\u001b[0;34m:\u001b[0m\u001b[0;34m\u001b[0m\u001b[0;34m\u001b[0m\u001b[0m\n\u001b[0;32m--> 314\u001b[0;31m             \u001b[0mtrainer\u001b[0m\u001b[0;34m.\u001b[0m\u001b[0mappend\u001b[0m\u001b[0;34m(\u001b[0m\u001b[0mxseq\u001b[0m\u001b[0;34m,\u001b[0m \u001b[0myseq\u001b[0m\u001b[0;34m)\u001b[0m\u001b[0;34m\u001b[0m\u001b[0;34m\u001b[0m\u001b[0m\n\u001b[0m\u001b[1;32m    315\u001b[0m \u001b[0;34m\u001b[0m\u001b[0m\n\u001b[1;32m    316\u001b[0m         \u001b[0;32mif\u001b[0m \u001b[0mself\u001b[0m\u001b[0;34m.\u001b[0m\u001b[0mverbose\u001b[0m\u001b[0;34m:\u001b[0m\u001b[0;34m\u001b[0m\u001b[0;34m\u001b[0m\u001b[0m\n",
      "\u001b[0;32mpycrfsuite/_pycrfsuite.pyx\u001b[0m in \u001b[0;36mpycrfsuite._pycrfsuite.BaseTrainer.append\u001b[0;34m()\u001b[0m\n",
      "\u001b[0;31mValueError\u001b[0m: The numbers of items and labels differ: |x| = 728, |y| = 7"
     ]
    }
   ],
   "source": [
    "# Running the CRF model\n",
    "from sklearn_crfsuite import CRF\n",
    "crf = CRF()\n",
    "\n",
    "# Training and Prediction\n",
    "crf.fit(x_train, y_train)\n",
    "y_pred = crf.predict(x_validation)\n",
    "\n",
    "# Generating results\n",
    "from sklearn_crfsuite.metrics import flat_classification_report\n",
    "report = flat_classification_report(y_validation, y_pred)\n",
    "print(report)"
   ]
  },
  {
   "cell_type": "code",
   "execution_count": null,
   "id": "bcdcfdec-6f15-41d2-a4f7-578fd0593121",
   "metadata": {},
   "outputs": [],
   "source": []
  },
  {
   "cell_type": "code",
   "execution_count": null,
   "id": "0f96faaa-678e-4738-b334-7cc15f3483c4",
   "metadata": {},
   "outputs": [],
   "source": []
  },
  {
   "cell_type": "markdown",
   "id": "a6535fd0-ea06-4c89-b8dc-15dc60166f26",
   "metadata": {},
   "source": [
    "## Random Forest Classifier"
   ]
  },
  {
   "cell_type": "code",
   "execution_count": 109,
   "id": "a0fe3cf8-e159-426a-88d1-8d87395416db",
   "metadata": {},
   "outputs": [],
   "source": [
    "transcriptions = list(mtsamples['transcription'])\n",
    "#transcriptions"
   ]
  },
  {
   "cell_type": "code",
   "execution_count": 117,
   "id": "1393ec47-87cc-469a-82ef-7e7b93a88a02",
   "metadata": {},
   "outputs": [],
   "source": [
    "speciality = list(mtsamples['medical_specialty'])\n",
    "#speciality"
   ]
  },
  {
   "cell_type": "code",
   "execution_count": 125,
   "id": "66ce26d0-7f78-483e-a008-80ee1260a03a",
   "metadata": {},
   "outputs": [
    {
     "name": "stdout",
     "output_type": "stream",
     "text": [
      "4966 4966\n"
     ]
    }
   ],
   "source": [
    "print(len(transcriptions),len(speciality))"
   ]
  },
  {
   "cell_type": "code",
   "execution_count": 133,
   "id": "f51e3b6f-67ad-4f75-9d6a-3146ad9d945e",
   "metadata": {},
   "outputs": [],
   "source": [
    "from sklearn.model_selection import train_test_split\n",
    "\n",
    "X = transcriptions\n",
    "Y = speciality\n",
    "\n",
    "from sklearn.feature_extraction.text import TfidfVectorizer\n",
    "\n",
    "tfidf_vec = TfidfVectorizer(stop_words='english')\n",
    "X = tfidf_vec.fit_transform(X)\n",
    "\n",
    "X_train, X_validation, Y_train, Y_validation = train_test_split(X,Y,random_state=500)"
   ]
  },
  {
   "cell_type": "code",
   "execution_count": 134,
   "id": "fa7f92cf-5d59-4a15-8605-0cdab2527ea8",
   "metadata": {},
   "outputs": [
    {
     "data": {
      "text/plain": [
       "RandomForestClassifier(criterion='entropy', n_estimators=10, random_state=42)"
      ]
     },
     "execution_count": 134,
     "metadata": {},
     "output_type": "execute_result"
    }
   ],
   "source": [
    "from sklearn.ensemble import RandomForestClassifier\n",
    "\n",
    "classifier = RandomForestClassifier(n_estimators = 10, criterion = 'entropy', random_state = 42)\n",
    "classifier.fit(X_train, Y_train)"
   ]
  },
  {
   "cell_type": "code",
   "execution_count": 142,
   "id": "36420421-7784-4566-936a-ffbed734d3c3",
   "metadata": {},
   "outputs": [],
   "source": [
    "# Predicting the Test set results\n",
    "y_pred = classifier.predict(X_validation)"
   ]
  },
  {
   "cell_type": "code",
   "execution_count": 154,
   "id": "833221b8-2e8e-484a-b3b0-28bd0fca216a",
   "metadata": {},
   "outputs": [
    {
     "ename": "IndentationError",
     "evalue": "expected an indented block (3513391784.py, line 7)",
     "output_type": "error",
     "traceback": [
      "\u001b[0;36m  File \u001b[0;32m\"/var/folders/zs/vb0jk42159g_18xt9v8_mbqc0000gn/T/ipykernel_50748/3513391784.py\"\u001b[0;36m, line \u001b[0;32m7\u001b[0m\n\u001b[0;31m    #print('PREDICTION: ' + y_pred[i] + '\\t' + 'ACTUAL: ' + y_val[i])\u001b[0m\n\u001b[0m                                                                     ^\u001b[0m\n\u001b[0;31mIndentationError\u001b[0m\u001b[0;31m:\u001b[0m expected an indented block\n"
     ]
    }
   ],
   "source": [
    "import pandas as pd\n",
    "import numpy as np\n",
    "\n",
    "y_val = np.array(Y_validation)\n",
    "\n",
    "for i in range(len(y_pred)):\n",
    "    #print('PREDICTION: ' + y_pred[i] + '\\t' + 'ACTUAL: ' + y_val[i])"
   ]
  },
  {
   "cell_type": "code",
   "execution_count": null,
   "id": "f16f1b4a-2b6b-456c-b397-7575f2658597",
   "metadata": {},
   "outputs": [],
   "source": []
  },
  {
   "cell_type": "code",
   "execution_count": null,
   "id": "eaf3436d-2ee3-49b3-b8a6-c3cf566dc198",
   "metadata": {},
   "outputs": [],
   "source": []
  },
  {
   "cell_type": "markdown",
   "id": "735ff5ab-f7da-44df-a66c-c54b73aa2ce1",
   "metadata": {},
   "source": [
    "## LSTM"
   ]
  },
  {
   "cell_type": "code",
   "execution_count": null,
   "id": "2c11c4c5-4c3c-4303-a262-482e032300ac",
   "metadata": {},
   "outputs": [],
   "source": []
  },
  {
   "cell_type": "code",
   "execution_count": null,
   "id": "9d88a4fa-adc5-40eb-aeb0-f82f1d7b98ad",
   "metadata": {},
   "outputs": [],
   "source": []
  },
  {
   "cell_type": "code",
   "execution_count": null,
   "id": "10fa627a-32dd-4701-9e29-84801e0a257c",
   "metadata": {},
   "outputs": [],
   "source": []
  }
 ],
 "metadata": {
  "kernelspec": {
   "display_name": "Python 3 (ipykernel)",
   "language": "python",
   "name": "python3"
  },
  "language_info": {
   "codemirror_mode": {
    "name": "ipython",
    "version": 3
   },
   "file_extension": ".py",
   "mimetype": "text/x-python",
   "name": "python",
   "nbconvert_exporter": "python",
   "pygments_lexer": "ipython3",
   "version": "3.9.7"
  }
 },
 "nbformat": 4,
 "nbformat_minor": 5
}
