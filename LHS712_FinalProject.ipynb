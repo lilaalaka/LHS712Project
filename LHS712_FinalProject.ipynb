{
 "cells": [
  {
   "cell_type": "markdown",
   "id": "9b6bcef5-9df3-4525-9075-f8d724d5828e",
   "metadata": {
    "tags": []
   },
   "source": [
    "https://www.kaggle.com/code/danielcwq/predict-medical-specialty-fastai"
   ]
  },
  {
   "cell_type": "code",
   "execution_count": null,
   "id": "cdca221a-3e2b-4c06-8ea5-fb24f3e94ec1",
   "metadata": {},
   "outputs": [],
   "source": [
    "# Read in data\n",
    "\n",
    "def read_file(f):\n",
    "    # Read all the lines in\n",
    "    data = open(f,'r').readlines()[1:]\n",
    "    # Split on tab and save row_id\n",
    "    row_id = [i.split('\\t')[0].strip() for i in data]\n",
    "    # Split on tab then split words by space\n",
    "    data = [i.split('\\t')[1].strip().split(' ') for i in data]\n",
    "    return row_id,data"
   ]
  },
  {
   "cell_type": "code",
   "execution_count": 20,
   "id": "361fc2bf-b148-4199-bdd7-83cbf1dcb7b6",
   "metadata": {},
   "outputs": [],
   "source": [
    "import pandas as pd\n",
    "\n",
    "mtsamples = pd.read_csv('mtsamples.csv',index_col=0)"
   ]
  },
  {
   "cell_type": "code",
   "execution_count": 35,
   "id": "d1904884-6fd6-40b7-9f09-1f1f4366cc30",
   "metadata": {},
   "outputs": [
    {
     "data": {
      "text/plain": [
       "0              Allergy / Immunology\n",
       "1                        Bariatrics\n",
       "2                        Bariatrics\n",
       "3        Cardiovascular / Pulmonary\n",
       "4        Cardiovascular / Pulmonary\n",
       "                   ...             \n",
       "4994           Allergy / Immunology\n",
       "4995           Allergy / Immunology\n",
       "4996           Allergy / Immunology\n",
       "4997           Allergy / Immunology\n",
       "4998           Allergy / Immunology\n",
       "Name: medical_specialty, Length: 4999, dtype: object"
      ]
     },
     "execution_count": 35,
     "metadata": {},
     "output_type": "execute_result"
    }
   ],
   "source": [
    "# medical_specialty = y\n",
    "# transcription = x\n",
    "\n",
    "# sequential models, deep learning, NN\n",
    "\n",
    "mtsamples['medical_specialty']"
   ]
  },
  {
   "cell_type": "code",
   "execution_count": 51,
   "id": "569fdc0f-77c8-494e-abee-5804d8c3611d",
   "metadata": {},
   "outputs": [
    {
     "data": {
      "text/plain": [
       "0       SUBJECTIVE:,  This 23-year-old white female pr...\n",
       "1       PAST MEDICAL HISTORY:, He has difficulty climb...\n",
       "2       HISTORY OF PRESENT ILLNESS: , I have seen ABC ...\n",
       "3       2-D M-MODE: , ,1.  Left atrial enlargement wit...\n",
       "4       1.  The left ventricular cavity size and wall ...\n",
       "                              ...                        \n",
       "4994    HISTORY:,  I had the pleasure of meeting and e...\n",
       "4995    ADMITTING DIAGNOSIS: , Kawasaki disease.,DISCH...\n",
       "4996    SUBJECTIVE: , This is a 42-year-old white fema...\n",
       "4997    CHIEF COMPLAINT: , This 5-year-old male presen...\n",
       "4998    HISTORY: , A 34-year-old male presents today s...\n",
       "Name: transcription, Length: 4999, dtype: object"
      ]
     },
     "execution_count": 51,
     "metadata": {},
     "output_type": "execute_result"
    }
   ],
   "source": [
    "mtsamples['transcription']"
   ]
  },
  {
   "cell_type": "code",
   "execution_count": 49,
   "id": "ba964d57-958a-4286-a712-fb45f7d1e36e",
   "metadata": {},
   "outputs": [],
   "source": [
    "y = list(mtsamples['medical_specialty'])\n",
    "x = list(mtsamples['transcription'])"
   ]
  },
  {
   "cell_type": "code",
   "execution_count": null,
   "id": "72f06458-de48-4793-ae14-4e11fe51ad66",
   "metadata": {},
   "outputs": [],
   "source": []
  },
  {
   "cell_type": "code",
   "execution_count": 53,
   "id": "b5a5ba28-2cce-4a56-9f63-51884da545a2",
   "metadata": {},
   "outputs": [],
   "source": [
    "import string\n",
    "\n",
    "def word2features(word):\n",
    "    features = {\n",
    "        'word': word,\n",
    "        'word.lower()': word.lower(),\n",
    "        'word.upper()': word.upper(),\n",
    "        'word[:1]': word[:1],\n",
    "        'word[:2]': word[:2],\n",
    "        'word[:3]': word[:3],\n",
    "        'word[:4]': word[:4],\n",
    "        'word[-1:]': word[-1:],\n",
    "        'word[-2:]': word[-2:],\n",
    "        'word[-3:]': word[-3:],\n",
    "        'word[-4:]': word[-4:],\n",
    "        'word.istitle()': word.istitle(),\n",
    "        'word.ispunctuation()': (word in string.punctuation),\n",
    "        'len(word)': len(word)\n",
    "    }\n",
    "    return features\n",
    "\n",
    "# run word2features on every word in text\n",
    "def text2features(text):\n",
    "    return [word2features(i) for i in text]"
   ]
  },
  {
   "cell_type": "code",
   "execution_count": 54,
   "id": "c75e8f71-82aa-41a6-9e5b-e7a1f8abde3d",
   "metadata": {},
   "outputs": [
    {
     "ename": "TypeError",
     "evalue": "'float' object is not iterable",
     "output_type": "error",
     "traceback": [
      "\u001b[0;31m---------------------------------------------------------------------------\u001b[0m",
      "\u001b[0;31mTypeError\u001b[0m                                 Traceback (most recent call last)",
      "\u001b[0;32m/var/folders/zs/vb0jk42159g_18xt9v8_mbqc0000gn/T/ipykernel_42564/718264993.py\u001b[0m in \u001b[0;36m<module>\u001b[0;34m\u001b[0m\n\u001b[0;32m----> 1\u001b[0;31m \u001b[0mx\u001b[0m \u001b[0;34m=\u001b[0m \u001b[0;34m[\u001b[0m\u001b[0mtext2features\u001b[0m\u001b[0;34m(\u001b[0m\u001b[0mtext\u001b[0m\u001b[0;34m)\u001b[0m \u001b[0;32mfor\u001b[0m \u001b[0mtext\u001b[0m \u001b[0;32min\u001b[0m \u001b[0mx\u001b[0m\u001b[0;34m]\u001b[0m\u001b[0;34m\u001b[0m\u001b[0;34m\u001b[0m\u001b[0m\n\u001b[0m\u001b[1;32m      2\u001b[0m \u001b[0;31m#y = tags\u001b[0m\u001b[0;34m\u001b[0m\u001b[0;34m\u001b[0m\u001b[0m\n",
      "\u001b[0;32m/var/folders/zs/vb0jk42159g_18xt9v8_mbqc0000gn/T/ipykernel_42564/718264993.py\u001b[0m in \u001b[0;36m<listcomp>\u001b[0;34m(.0)\u001b[0m\n\u001b[0;32m----> 1\u001b[0;31m \u001b[0mx\u001b[0m \u001b[0;34m=\u001b[0m \u001b[0;34m[\u001b[0m\u001b[0mtext2features\u001b[0m\u001b[0;34m(\u001b[0m\u001b[0mtext\u001b[0m\u001b[0;34m)\u001b[0m \u001b[0;32mfor\u001b[0m \u001b[0mtext\u001b[0m \u001b[0;32min\u001b[0m \u001b[0mx\u001b[0m\u001b[0;34m]\u001b[0m\u001b[0;34m\u001b[0m\u001b[0;34m\u001b[0m\u001b[0m\n\u001b[0m\u001b[1;32m      2\u001b[0m \u001b[0;31m#y = tags\u001b[0m\u001b[0;34m\u001b[0m\u001b[0;34m\u001b[0m\u001b[0m\n",
      "\u001b[0;32m/var/folders/zs/vb0jk42159g_18xt9v8_mbqc0000gn/T/ipykernel_42564/1578669760.py\u001b[0m in \u001b[0;36mtext2features\u001b[0;34m(text)\u001b[0m\n\u001b[1;32m     22\u001b[0m \u001b[0;31m# run word2features on every word in text\u001b[0m\u001b[0;34m\u001b[0m\u001b[0;34m\u001b[0m\u001b[0m\n\u001b[1;32m     23\u001b[0m \u001b[0;32mdef\u001b[0m \u001b[0mtext2features\u001b[0m\u001b[0;34m(\u001b[0m\u001b[0mtext\u001b[0m\u001b[0;34m)\u001b[0m\u001b[0;34m:\u001b[0m\u001b[0;34m\u001b[0m\u001b[0;34m\u001b[0m\u001b[0m\n\u001b[0;32m---> 24\u001b[0;31m     \u001b[0;32mreturn\u001b[0m \u001b[0;34m[\u001b[0m\u001b[0mword2features\u001b[0m\u001b[0;34m(\u001b[0m\u001b[0mi\u001b[0m\u001b[0;34m)\u001b[0m \u001b[0;32mfor\u001b[0m \u001b[0mi\u001b[0m \u001b[0;32min\u001b[0m \u001b[0mtext\u001b[0m\u001b[0;34m]\u001b[0m\u001b[0;34m\u001b[0m\u001b[0;34m\u001b[0m\u001b[0m\n\u001b[0m",
      "\u001b[0;31mTypeError\u001b[0m: 'float' object is not iterable"
     ]
    }
   ],
   "source": [
    "x = [text2features(text) for text in x]\n",
    "#y = tags"
   ]
  },
  {
   "cell_type": "code",
   "execution_count": 40,
   "id": "4b4c0179-95e5-4aff-9c81-3d6e5304ba7d",
   "metadata": {},
   "outputs": [],
   "source": []
  },
  {
   "cell_type": "code",
   "execution_count": null,
   "id": "58394e1f-b2ea-40d0-bd69-df4fc24fb1d5",
   "metadata": {},
   "outputs": [],
   "source": []
  },
  {
   "cell_type": "code",
   "execution_count": null,
   "id": "bcdcfdec-6f15-41d2-a4f7-578fd0593121",
   "metadata": {},
   "outputs": [],
   "source": []
  },
  {
   "cell_type": "code",
   "execution_count": null,
   "id": "0f96faaa-678e-4738-b334-7cc15f3483c4",
   "metadata": {},
   "outputs": [],
   "source": [
    "x = [text2features(text) for text in texts]\n",
    "y = tags"
   ]
  }
 ],
 "metadata": {
  "kernelspec": {
   "display_name": "Python 3 (ipykernel)",
   "language": "python",
   "name": "python3"
  },
  "language_info": {
   "codemirror_mode": {
    "name": "ipython",
    "version": 3
   },
   "file_extension": ".py",
   "mimetype": "text/x-python",
   "name": "python",
   "nbconvert_exporter": "python",
   "pygments_lexer": "ipython3",
   "version": "3.9.7"
  }
 },
 "nbformat": 4,
 "nbformat_minor": 5
}
